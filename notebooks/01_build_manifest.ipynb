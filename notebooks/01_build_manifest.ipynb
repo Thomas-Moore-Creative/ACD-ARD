{
 "cells": [
  {
   "cell_type": "markdown",
   "id": "0bd69fa6-7424-40f9-a3c0-7a78834325db",
   "metadata": {},
   "source": [
    "# 01_build_manifest.ipynb\n",
    "### Scan NetCDF inputs for a collection and create a Parquet manifest."
   ]
  },
  {
   "cell_type": "code",
   "execution_count": 1,
   "id": "15d9ca48-1106-483d-b9ea-547895a5cd38",
   "metadata": {},
   "outputs": [],
   "source": [
    "# %%\n",
    "%load_ext autoreload\n",
    "%autoreload 2"
   ]
  },
  {
   "cell_type": "code",
   "execution_count": 2,
   "id": "c8bdcc3e-86bf-4ea9-991c-be8f9509df85",
   "metadata": {},
   "outputs": [],
   "source": [
    "# path for local code\n",
    "import os\n",
    "import sys\n",
    "\n",
    "sys.path.insert(0, os.path.abspath(\"../src\"))"
   ]
  }
 ],
 "metadata": {
  "kernelspec": {
   "display_name": "Python 3 (ipykernel)",
   "language": "python",
   "name": "python3"
  },
  "language_info": {
   "codemirror_mode": {
    "name": "ipython",
    "version": 3
   },
   "file_extension": ".py",
   "mimetype": "text/x-python",
   "name": "python",
   "nbconvert_exporter": "python",
   "pygments_lexer": "ipython3",
   "version": "3.13.7"
  }
 },
 "nbformat": 4,
 "nbformat_minor": 5
}
