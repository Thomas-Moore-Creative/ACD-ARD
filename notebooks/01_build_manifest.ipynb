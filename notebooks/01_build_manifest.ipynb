{
 "cells": [
  {
   "cell_type": "markdown",
   "id": "0bd69fa6-7424-40f9-a3c0-7a78834325db",
   "metadata": {},
   "source": [
    "# 01_build_manifest.ipynb\n",
    "### Scan NetCDF inputs for a collection and create a Parquet manifest."
   ]
  },
  {
   "cell_type": "code",
   "execution_count": 1,
   "id": "15d9ca48-1106-483d-b9ea-547895a5cd38",
   "metadata": {},
   "outputs": [],
   "source": [
    "# %%\n",
    "%load_ext autoreload\n",
    "%autoreload 2"
   ]
  },
  {
   "cell_type": "code",
   "execution_count": 2,
   "id": "c8bdcc3e-86bf-4ea9-991c-be8f9509df85",
   "metadata": {},
   "outputs": [],
   "source": [
    "# path for local code\n",
    "import sys, os\n",
    "sys.path.insert(0, os.path.abspath(\"../src\"))"
   ]
  },
  {
   "cell_type": "code",
   "execution_count": 3,
   "id": "76f511db-e7ac-42ea-bc9c-93496a9c0de4",
   "metadata": {},
   "outputs": [
    {
     "ename": "ModuleNotFoundError",
     "evalue": "No module named 'acd_ard.manifest'",
     "output_type": "error",
     "traceback": [
      "\u001b[31m---------------------------------------------------------------------------\u001b[39m",
      "\u001b[31mModuleNotFoundError\u001b[39m                       Traceback (most recent call last)",
      "\u001b[36mCell\u001b[39m\u001b[36m \u001b[39m\u001b[32mIn[3]\u001b[39m\u001b[32m, line 2\u001b[39m\n\u001b[32m      1\u001b[39m \u001b[38;5;28;01mfrom\u001b[39;00m\u001b[38;5;250m \u001b[39m\u001b[34;01mpathlib\u001b[39;00m\u001b[38;5;250m \u001b[39m\u001b[38;5;28;01mimport\u001b[39;00m Path\n\u001b[32m----> \u001b[39m\u001b[32m2\u001b[39m \u001b[38;5;28;01mfrom\u001b[39;00m\u001b[38;5;250m \u001b[39m\u001b[34;01macd_ard\u001b[39;00m\u001b[34;01m.\u001b[39;00m\u001b[34;01mmanifest\u001b[39;00m\u001b[38;5;250m \u001b[39m\u001b[38;5;28;01mimport\u001b[39;00m build_manifest_for_collection\n\u001b[32m      3\u001b[39m \u001b[38;5;28;01mfrom\u001b[39;00m\u001b[38;5;250m \u001b[39m\u001b[34;01macd_ard\u001b[39;00m\u001b[34;01m.\u001b[39;00m\u001b[34;01mconfig\u001b[39;00m\u001b[38;5;250m \u001b[39m\u001b[38;5;28;01mimport\u001b[39;00m load_all_config\n",
      "\u001b[31mModuleNotFoundError\u001b[39m: No module named 'acd_ard.manifest'"
     ]
    }
   ],
   "source": [
    "from pathlib import Path\n",
    "from acd_ard.manifest import build_manifest_for_collection\n",
    "from acd_ard.config import load_all_config"
   ]
  },
  {
   "cell_type": "code",
   "execution_count": null,
   "id": "fd1e6f4a-0847-4d66-b502-71f218ae4bcf",
   "metadata": {},
   "outputs": [],
   "source": []
  }
 ],
 "metadata": {
  "kernelspec": {
   "display_name": "Python 3 (ipykernel)",
   "language": "python",
   "name": "python3"
  },
  "language_info": {
   "codemirror_mode": {
    "name": "ipython",
    "version": 3
   },
   "file_extension": ".py",
   "mimetype": "text/x-python",
   "name": "python",
   "nbconvert_exporter": "python",
   "pygments_lexer": "ipython3",
   "version": "3.13.7"
  }
 },
 "nbformat": 4,
 "nbformat_minor": 5
}
