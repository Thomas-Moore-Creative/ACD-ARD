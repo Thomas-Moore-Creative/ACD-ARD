{
 "cells": [
  {
   "cell_type": "markdown",
   "id": "0bd69fa6-7424-40f9-a3c0-7a78834325db",
   "metadata": {},
   "source": [
    "# 01_build_manifest.ipynb\n",
    "### Scan NetCDF inputs for a collection and create a Parquet manifest."
   ]
  },
  {
   "cell_type": "code",
   "execution_count": 1,
   "id": "15d9ca48-1106-483d-b9ea-547895a5cd38",
   "metadata": {},
   "outputs": [],
   "source": [
    "# %%\n",
    "%load_ext autoreload\n",
    "%autoreload 2"
   ]
  },
  {
   "cell_type": "markdown",
   "id": "27c76429-9c90-4cdb-af72-494fe4335bc6",
   "metadata": {},
   "source": [
    "#### quick smoke test"
   ]
  },
  {
   "cell_type": "code",
   "execution_count": 2,
   "id": "5acb4e5e-5331-4639-a218-6e30ca99ccee",
   "metadata": {},
   "outputs": [
    {
     "name": "stdout",
     "output_type": "stream",
     "text": [
      "acd_ard.core /g/data/es60/users/thomas_moore/code/ACD/ACD-ARD/src/acd_ard/core.py\n"
     ]
    }
   ],
   "source": [
    "from acd_ard import core\n",
    "print(core.__name__, getattr(core, \"__file__\", None))"
   ]
  },
  {
   "cell_type": "code",
   "execution_count": null,
   "id": "84395b75-2ca3-4b7c-8e27-6ed3feaf66ed",
   "metadata": {},
   "outputs": [],
   "source": []
  }
 ],
 "metadata": {
  "kernelspec": {
   "display_name": "Python 3 (ipykernel)",
   "language": "python",
   "name": "python3"
  },
  "language_info": {
   "codemirror_mode": {
    "name": "ipython",
    "version": 3
   },
   "file_extension": ".py",
   "mimetype": "text/x-python",
   "name": "python",
   "nbconvert_exporter": "python",
   "pygments_lexer": "ipython3",
   "version": "3.13.7"
  }
 },
 "nbformat": 4,
 "nbformat_minor": 5
}
